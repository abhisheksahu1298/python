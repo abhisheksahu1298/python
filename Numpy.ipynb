{
  "nbformat": 4,
  "nbformat_minor": 0,
  "metadata": {
    "colab": {
      "name": "Untitled8.ipynb",
      "provenance": [],
      "collapsed_sections": []
    },
    "kernelspec": {
      "name": "python3",
      "display_name": "Python 3"
    },
    "language_info": {
      "name": "python"
    }
  },
  "cells": [
    {
      "cell_type": "markdown",
      "source": [
        "# **Numpy**"
      ],
      "metadata": {
        "id": "sm7HpxmcBAcq"
      }
    },
    {
      "cell_type": "markdown",
      "source": [
        "Numpy is a Python library. It is used for working, with arrays. Numpy is short for \"Numerical Python\"."
      ],
      "metadata": {
        "id": "0fha1bHDARIR"
      }
    },
    {
      "cell_type": "code",
      "execution_count": null,
      "metadata": {
        "colab": {
          "base_uri": "https://localhost:8080/"
        },
        "id": "dan4Xl8AU-VF",
        "outputId": "8f572c46-66a0-40e5-b1fc-7da7e4cdda08"
      },
      "outputs": [
        {
          "output_type": "stream",
          "name": "stdout",
          "text": [
            "[1 2 3 4]\n"
          ]
        }
      ],
      "source": [
        "import numpy as np\n",
        "arr=np.array([1,2,3,4])\n",
        "print(arr)"
      ]
    },
    {
      "cell_type": "markdown",
      "source": [
        "Numpy is used to work with arrays. The array object in Numpy is called ndarray."
      ],
      "metadata": {
        "id": "gnX03ctvVmdx"
      }
    },
    {
      "cell_type": "code",
      "source": [
        "import numpy as np\n",
        "arr=np.array([1,2,3,4,5])\n",
        "print(arr)\n",
        "print(type(arr))"
      ],
      "metadata": {
        "colab": {
          "base_uri": "https://localhost:8080/"
        },
        "id": "8jc7WUCbWXmb",
        "outputId": "04d4a06f-ba8f-488b-d212-6393efbc32e6"
      },
      "execution_count": null,
      "outputs": [
        {
          "output_type": "stream",
          "name": "stdout",
          "text": [
            "[1 2 3 4 5]\n",
            "<class 'numpy.ndarray'>\n"
          ]
        }
      ]
    },
    {
      "cell_type": "markdown",
      "source": [
        "To create an ndarray, we can pass a list, tuple or any array- like object into the array() method, and it will be converted into an ndarray."
      ],
      "metadata": {
        "id": "oVbJKM6tAoW9"
      }
    },
    {
      "cell_type": "code",
      "source": [
        "#Use a tuple to create a Numpy array\n",
        "import numpy as np\n",
        "arr=np.array([1,2,3,4,5])\n",
        "print(arr)"
      ],
      "metadata": {
        "colab": {
          "base_uri": "https://localhost:8080/"
        },
        "id": "ox3_w9lHXONZ",
        "outputId": "90d0f790-b279-484e-aaa7-5c72c5618a49"
      },
      "execution_count": null,
      "outputs": [
        {
          "output_type": "stream",
          "name": "stdout",
          "text": [
            "[1 2 3 4 5]\n"
          ]
        }
      ]
    },
    {
      "cell_type": "markdown",
      "source": [
        "**Numpy Array Indexing**"
      ],
      "metadata": {
        "id": "m3NzogiQBMC6"
      }
    },
    {
      "cell_type": "markdown",
      "source": [
        "*Access array element*"
      ],
      "metadata": {
        "id": "DH3V0zbBBTFj"
      }
    },
    {
      "cell_type": "markdown",
      "source": [
        "Array indexing is the same as accessing an array element. The indexes in Numpy start with 0, meaning that the first element has index 0,and the second has index 1 etc."
      ],
      "metadata": {
        "id": "TdcvuJgLBZ6z"
      }
    },
    {
      "cell_type": "code",
      "source": [
        "#Get the first element from the following array:\n",
        "import numpy as np\n",
        "arr=np.array([1,2,3,4,5])\n",
        "print(arr[0])"
      ],
      "metadata": {
        "colab": {
          "base_uri": "https://localhost:8080/"
        },
        "id": "aAIr50tcYw40",
        "outputId": "77c36672-bcc5-4a4d-d63b-83627b3ebc87"
      },
      "execution_count": null,
      "outputs": [
        {
          "output_type": "stream",
          "name": "stdout",
          "text": [
            "1\n"
          ]
        }
      ]
    },
    {
      "cell_type": "code",
      "source": [
        "#Get the third and fourth element from the following and add them:\n",
        "import numpy as np\n",
        "arr=np.array([1,2,3,4,5])\n",
        "print(arr[2]+arr[3])"
      ],
      "metadata": {
        "colab": {
          "base_uri": "https://localhost:8080/"
        },
        "id": "XC7d5Gu8ZE0A",
        "outputId": "08fcd75e-b43e-4a7a-9251-cc1e6b8ad708"
      },
      "execution_count": null,
      "outputs": [
        {
          "output_type": "stream",
          "name": "stdout",
          "text": [
            "7\n"
          ]
        }
      ]
    },
    {
      "cell_type": "markdown",
      "source": [
        "*Access 2-d arrays*"
      ],
      "metadata": {
        "id": "uiVBruLiB-w8"
      }
    },
    {
      "cell_type": "markdown",
      "source": [
        "To access elements from 2-d arrays ,we can use comma separated integers representing the dimension and the index of the element.Think of 2-d arrays like a table with rows and columns, where the row represents the dimensions and the index represent the column."
      ],
      "metadata": {
        "id": "W3JOeTrGCQGx"
      }
    },
    {
      "cell_type": "code",
      "source": [
        "#Access the element on the first row, second column.\n",
        "import numpy as np\n",
        "arr=np.array([[1,2,3,4,5],[6,7,8,9,10]])\n",
        "print('2nd element on 1st row:',arr[0,1])"
      ],
      "metadata": {
        "colab": {
          "base_uri": "https://localhost:8080/"
        },
        "id": "Bx49ritrcj3G",
        "outputId": "8a342191-edf4-4817-bf8e-e40f36f36d5b"
      },
      "execution_count": null,
      "outputs": [
        {
          "output_type": "stream",
          "name": "stdout",
          "text": [
            "2nd element on 1st row: 2\n"
          ]
        }
      ]
    },
    {
      "cell_type": "markdown",
      "source": [
        "**Numpy Array Slicing**"
      ],
      "metadata": {
        "id": "wqxDr0p6C7Ga"
      }
    },
    {
      "cell_type": "markdown",
      "source": [
        "*Slicing array*"
      ],
      "metadata": {
        "id": "9hqR5CdqDBXz"
      }
    },
    {
      "cell_type": "markdown",
      "source": [
        "Slicing in python means taking elements from one given index to another given index.\n",
        "If we don't pass start its considered 0.If we don't pass end its considered length of array in that dimension."
      ],
      "metadata": {
        "id": "rjB0ekToDIex"
      }
    },
    {
      "cell_type": "code",
      "source": [
        "#Slice elements from index 1 to index 5 from the following array:\n",
        "import numpy as np\n",
        "arr=np.array([1,2,3,4,5,6,7])\n",
        "print(arr[1:5])"
      ],
      "metadata": {
        "colab": {
          "base_uri": "https://localhost:8080/"
        },
        "id": "6vp1g6WzjzFf",
        "outputId": "a8d31c2c-c9a4-4232-c064-f44548b89da6"
      },
      "execution_count": null,
      "outputs": [
        {
          "output_type": "stream",
          "name": "stdout",
          "text": [
            "[2 3 4 5]\n"
          ]
        }
      ]
    },
    {
      "cell_type": "code",
      "source": [
        "#Slice elements from index 4 to the end of the array:\n",
        "import numpy as np\n",
        "arr=np.array([1,2,3,4,5,6,7])\n",
        "print(arr[4:])"
      ],
      "metadata": {
        "colab": {
          "base_uri": "https://localhost:8080/"
        },
        "id": "xhzpo1GIkmlV",
        "outputId": "24b5836d-38e4-4d2b-c777-730afc61e29e"
      },
      "execution_count": null,
      "outputs": [
        {
          "output_type": "stream",
          "name": "stdout",
          "text": [
            "[5 6 7]\n"
          ]
        }
      ]
    },
    {
      "cell_type": "code",
      "source": [
        "#Negative Slicing\n",
        "#Use the minus operator to refer to an index from the end:\n",
        "#Slice from index 3 to 1 from the end:\n",
        "\n",
        "import numpy as np\n",
        "arr=np.array([1,2,3,4,5,6,7])\n",
        "print(arr[-3:-1])"
      ],
      "metadata": {
        "colab": {
          "base_uri": "https://localhost:8080/"
        },
        "id": "P1NovLG5k7Dw",
        "outputId": "5c7c2e97-676f-4e10-ac89-25e4a460e135"
      },
      "execution_count": null,
      "outputs": [
        {
          "output_type": "stream",
          "name": "stdout",
          "text": [
            "[5 6]\n"
          ]
        }
      ]
    },
    {
      "cell_type": "code",
      "source": [
        "#From both elements, slice index 1 to 4, this will return a 2-d array:\n",
        "\n",
        "import numpy as np\n",
        "arr=np.array([[1,2,3,4,5],[6,7,8,9,10]])\n",
        "print(arr[0:2,1:4])"
      ],
      "metadata": {
        "colab": {
          "base_uri": "https://localhost:8080/"
        },
        "id": "USOP7SKQlc6S",
        "outputId": "c0b1774f-990f-4447-f03a-c5c052527f9b"
      },
      "execution_count": null,
      "outputs": [
        {
          "output_type": "stream",
          "name": "stdout",
          "text": [
            "[[2 3 4]\n",
            " [7 8 9]]\n"
          ]
        }
      ]
    },
    {
      "cell_type": "markdown",
      "source": [
        "# Join Two Arrays"
      ],
      "metadata": {
        "id": "_UI4YwCOD7Wt"
      }
    },
    {
      "cell_type": "code",
      "source": [
        "import numpy as np\n",
        "arr1 =np.array([1,2,3])\n",
        "arr2 =np.array([4,5,6])\n",
        "\n",
        "arr=np.concatenate((arr1,arr2))\n",
        "print(arr)"
      ],
      "metadata": {
        "colab": {
          "base_uri": "https://localhost:8080/"
        },
        "id": "E2Zq7mZ-6Nbz",
        "outputId": "0a1aec48-51b3-49d1-ff84-d48da330eafb"
      },
      "execution_count": 2,
      "outputs": [
        {
          "output_type": "stream",
          "name": "stdout",
          "text": [
            "[1 2 3 4 5 6]\n"
          ]
        }
      ]
    },
    {
      "cell_type": "code",
      "source": [
        "#Join two 2-d arrays along rows\n",
        "import numpy as np\n",
        "arr1= np.array([[1,2],[3,4]])\n",
        "arr2=np.array([[5,6],[7,8]])\n",
        "\n",
        "arr=np.concatenate((arr1,arr2),axis=1)\n",
        "print(arr)\n",
        "arr1=np.concatenate((arr1,arr2),axis=0)\n",
        "print(arr1)"
      ],
      "metadata": {
        "colab": {
          "base_uri": "https://localhost:8080/"
        },
        "id": "lNQM8Xm76_bc",
        "outputId": "5b5827a2-6df2-4500-cd0d-8db91850963c"
      },
      "execution_count": 5,
      "outputs": [
        {
          "output_type": "stream",
          "name": "stdout",
          "text": [
            "[[1 2 5 6]\n",
            " [3 4 7 8]]\n",
            "[[1 2]\n",
            " [3 4]\n",
            " [5 6]\n",
            " [7 8]]\n"
          ]
        }
      ]
    },
    {
      "cell_type": "markdown",
      "source": [
        "The Numpy ndarray object has a function called sort(), that will sort a specified array."
      ],
      "metadata": {
        "id": "8plJjkrc9YzT"
      }
    },
    {
      "cell_type": "code",
      "source": [
        "#Sort the array\n",
        "import numpy as np\n",
        "arr=np.array([3,2,0,1])\n",
        "print(np.sort(arr))"
      ],
      "metadata": {
        "colab": {
          "base_uri": "https://localhost:8080/"
        },
        "id": "6ifqIysZ9n2X",
        "outputId": "f5e4cd54-2962-4afb-a9a3-14bb1f69ac63"
      },
      "execution_count": 6,
      "outputs": [
        {
          "output_type": "stream",
          "name": "stdout",
          "text": [
            "[0 1 2 3]\n"
          ]
        }
      ]
    },
    {
      "cell_type": "code",
      "source": [
        "#Sort the array alphabetically:\n",
        "import numpy as np\n",
        "arr=np.array([\"banana\",\"cherry\",\"apple\"])\n",
        "print(np.sort(arr))"
      ],
      "metadata": {
        "colab": {
          "base_uri": "https://localhost:8080/"
        },
        "id": "1liZ0W0A-YK4",
        "outputId": "5bd8c2e5-2cd9-434a-ffe9-ebbef0a07d38"
      },
      "execution_count": 7,
      "outputs": [
        {
          "output_type": "stream",
          "name": "stdout",
          "text": [
            "['apple' 'banana' 'cherry']\n"
          ]
        }
      ]
    },
    {
      "cell_type": "markdown",
      "source": [
        "# Sorting a 2-d array"
      ],
      "metadata": {
        "id": "hZ6gXfU6_WlR"
      }
    },
    {
      "cell_type": "markdown",
      "source": [
        "If one use the sort() method on a 2-d array, both will be sorted."
      ],
      "metadata": {
        "id": "AZoTdpC3_fcf"
      }
    },
    {
      "cell_type": "code",
      "source": [
        "#Sort a 2-d array:\n",
        "import numpy as np\n",
        "arr=np.array([[3,2,4],[5,0,1]])\n",
        "print(np.sort(arr))"
      ],
      "metadata": {
        "colab": {
          "base_uri": "https://localhost:8080/"
        },
        "id": "bKNbX18P_ox0",
        "outputId": "d57b0b51-3e87-4723-8d5b-edaf7800d44b"
      },
      "execution_count": 8,
      "outputs": [
        {
          "output_type": "stream",
          "name": "stdout",
          "text": [
            "[[2 3 4]\n",
            " [0 1 5]]\n"
          ]
        }
      ]
    },
    {
      "cell_type": "markdown",
      "source": [
        ""
      ],
      "metadata": {
        "id": "EXB2VqZjALD-"
      }
    }
  ]
}